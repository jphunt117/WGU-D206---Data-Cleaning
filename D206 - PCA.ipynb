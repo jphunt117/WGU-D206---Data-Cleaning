{
 "cells": [
  {
   "cell_type": "code",
   "execution_count": 1,
   "id": "88923425-c361-4661-a861-cf8ce0d3cacc",
   "metadata": {},
   "outputs": [],
   "source": [
    "#import packages\n",
    "import numpy as np\n",
    "import pandas as pd\n",
    "import seaborn as sns\n",
    "import matplotlib.pyplot as plt\n",
    "from sklearn.decomposition import PCA\n",
    "%matplotlib inline"
   ]
  },
  {
   "cell_type": "code",
   "execution_count": 35,
   "id": "09a3273b-9402-41d8-baf9-d959b310dfb1",
   "metadata": {},
   "outputs": [],
   "source": [
    "#import clean data set\n",
    "df = pd.read_csv('medical_data_clean.csv', index_col = 0)"
   ]
  },
  {
   "cell_type": "code",
   "execution_count": 36,
   "id": "9ab0132c-73ae-4a95-9906-0cf7de2354a6",
   "metadata": {},
   "outputs": [],
   "source": [
    "df = df[['Population', 'Children', 'Age', 'Income', 'Doc_visits', 'Initial_days', 'TotalCharge', 'Additional_charges']]"
   ]
  },
  {
   "cell_type": "code",
   "execution_count": 37,
   "id": "bee60e0a-82cd-4250-ae12-33eadcaa9177",
   "metadata": {},
   "outputs": [
    {
     "data": {
      "text/html": [
       "<div>\n",
       "<style scoped>\n",
       "    .dataframe tbody tr th:only-of-type {\n",
       "        vertical-align: middle;\n",
       "    }\n",
       "\n",
       "    .dataframe tbody tr th {\n",
       "        vertical-align: top;\n",
       "    }\n",
       "\n",
       "    .dataframe thead th {\n",
       "        text-align: right;\n",
       "    }\n",
       "</style>\n",
       "<table border=\"1\" class=\"dataframe\">\n",
       "  <thead>\n",
       "    <tr style=\"text-align: right;\">\n",
       "      <th></th>\n",
       "      <th>Population</th>\n",
       "      <th>Children</th>\n",
       "      <th>Age</th>\n",
       "      <th>Income</th>\n",
       "      <th>Doc_visits</th>\n",
       "      <th>Initial_days</th>\n",
       "      <th>TotalCharge</th>\n",
       "      <th>Additional_charges</th>\n",
       "    </tr>\n",
       "  </thead>\n",
       "  <tbody>\n",
       "    <tr>\n",
       "      <th>0</th>\n",
       "      <td>2951</td>\n",
       "      <td>1.0</td>\n",
       "      <td>53.0</td>\n",
       "      <td>86575.93</td>\n",
       "      <td>6</td>\n",
       "      <td>10.585770</td>\n",
       "      <td>3191.048774</td>\n",
       "      <td>17939.403420</td>\n",
       "    </tr>\n",
       "    <tr>\n",
       "      <th>1</th>\n",
       "      <td>11303</td>\n",
       "      <td>3.0</td>\n",
       "      <td>51.0</td>\n",
       "      <td>46805.99</td>\n",
       "      <td>4</td>\n",
       "      <td>15.129562</td>\n",
       "      <td>4214.905346</td>\n",
       "      <td>17612.998120</td>\n",
       "    </tr>\n",
       "    <tr>\n",
       "      <th>2</th>\n",
       "      <td>17125</td>\n",
       "      <td>3.0</td>\n",
       "      <td>53.0</td>\n",
       "      <td>14370.14</td>\n",
       "      <td>4</td>\n",
       "      <td>4.772177</td>\n",
       "      <td>2177.586768</td>\n",
       "      <td>17505.192460</td>\n",
       "    </tr>\n",
       "    <tr>\n",
       "      <th>3</th>\n",
       "      <td>2162</td>\n",
       "      <td>0.0</td>\n",
       "      <td>78.0</td>\n",
       "      <td>39741.49</td>\n",
       "      <td>4</td>\n",
       "      <td>1.714879</td>\n",
       "      <td>2465.118965</td>\n",
       "      <td>12993.437350</td>\n",
       "    </tr>\n",
       "    <tr>\n",
       "      <th>4</th>\n",
       "      <td>5287</td>\n",
       "      <td>1.0</td>\n",
       "      <td>22.0</td>\n",
       "      <td>1209.56</td>\n",
       "      <td>5</td>\n",
       "      <td>1.254807</td>\n",
       "      <td>1885.655137</td>\n",
       "      <td>3716.525786</td>\n",
       "    </tr>\n",
       "  </tbody>\n",
       "</table>\n",
       "</div>"
      ],
      "text/plain": [
       "   Population  Children   Age    Income  Doc_visits  Initial_days  \\\n",
       "0        2951       1.0  53.0  86575.93           6     10.585770   \n",
       "1       11303       3.0  51.0  46805.99           4     15.129562   \n",
       "2       17125       3.0  53.0  14370.14           4      4.772177   \n",
       "3        2162       0.0  78.0  39741.49           4      1.714879   \n",
       "4        5287       1.0  22.0   1209.56           5      1.254807   \n",
       "\n",
       "   TotalCharge  Additional_charges  \n",
       "0  3191.048774        17939.403420  \n",
       "1  4214.905346        17612.998120  \n",
       "2  2177.586768        17505.192460  \n",
       "3  2465.118965        12993.437350  \n",
       "4  1885.655137         3716.525786  "
      ]
     },
     "execution_count": 37,
     "metadata": {},
     "output_type": "execute_result"
    }
   ],
   "source": [
    "df.head()"
   ]
  },
  {
   "cell_type": "code",
   "execution_count": 38,
   "id": "d74d2313-c706-4fbc-86fa-e90cf89679ea",
   "metadata": {},
   "outputs": [],
   "source": [
    "#normalize the data\n",
    "df_normalized = (df - df.mean()) / df.std()"
   ]
  },
  {
   "cell_type": "code",
   "execution_count": 44,
   "id": "fe6a7fba-efb5-48ee-ab6a-ba7b15eb0c1f",
   "metadata": {},
   "outputs": [],
   "source": [
    "pca = PCA(n_components = df.shape[1])"
   ]
  },
  {
   "cell_type": "code",
   "execution_count": 45,
   "id": "4cbbcccc-b4be-4cc5-93ee-fa298fada58f",
   "metadata": {},
   "outputs": [],
   "source": [
    "pca.fit(df_normalized)\n",
    "df_pca = pd.DataFrame(pca.transform(df_normalized),\n",
    "                      columns = ['Population', 'Children', 'Age', 'Income', 'Doc_visits', 'Initial_days', 'TotalCharge', 'Additional_charges'])"
   ]
  },
  {
   "cell_type": "code",
   "execution_count": 46,
   "id": "d3fedfb4-7f9b-4623-a2a6-81334629a067",
   "metadata": {},
   "outputs": [
    {
     "data": {
      "image/png": "[encoded data removed]",
      "text/plain": [
       "<Figure size 432x288 with 1 Axes>"
      ]
     },
     "metadata": {
      "needs_background": "light"
     },
     "output_type": "display_data"
    }
   ],
   "source": [
    "#create scree plot\n",
    "plt.plot(pca.explained_variance_ratio_)\n",
    "plt.xlabel('number of components')\n",
    "plt.ylabel('explained variance')\n",
    "plt.show()\n",
    "#plt.savefig('PCA Scree Plot.jpg')"
   ]
  },
  {
   "cell_type": "code",
   "execution_count": 25,
   "id": "77f59dc1-ec64-4662-a91d-904a12769d07",
   "metadata": {},
   "outputs": [],
   "source": [
    "#get eigenvalues\n",
    "cov_matrix = np.dot(df_normalized.T, df_normalized) / df.shape[0]\n",
    "eigenvalues = [np.dot(eigenvector.T, np.dot(cov_matrix, eigenvector)) for eigenvector in pca.components_]"
   ]
  },
  {
   "cell_type": "code",
   "execution_count": 26,
   "id": "9c064218-45da-486e-91b3-277a3592b5f7",
   "metadata": {},
   "outputs": [
    {
     "data": {
      "image/png": "[encoded data removed]",
      "text/plain": [
       "<Figure size 432x288 with 1 Axes>"
      ]
     },
     "metadata": {
      "needs_background": "light"
     },
     "output_type": "display_data"
    }
   ],
   "source": [
    "#plot eigenvalues as screen plot\n",
    "plt.plot(eigenvalues)\n",
    "plt.xlabel('number of components')\n",
    "plt.ylabel('eigenvalue')\n",
    "plt.show()\n",
    "#plt.savefig('Eigenvalue Plot.jpg')"
   ]
  },
  {
   "cell_type": "code",
   "execution_count": 27,
   "id": "5ad1c113-a012-44d4-a77b-81ab835ce4d7",
   "metadata": {},
   "outputs": [
    {
     "data": {
      "text/html": [
       "<div>\n",
       "<style scoped>\n",
       "    .dataframe tbody tr th:only-of-type {\n",
       "        vertical-align: middle;\n",
       "    }\n",
       "\n",
       "    .dataframe tbody tr th {\n",
       "        vertical-align: top;\n",
       "    }\n",
       "\n",
       "    .dataframe thead th {\n",
       "        text-align: right;\n",
       "    }\n",
       "</style>\n",
       "<table border=\"1\" class=\"dataframe\">\n",
       "  <thead>\n",
       "    <tr style=\"text-align: right;\">\n",
       "      <th></th>\n",
       "      <th>PC1</th>\n",
       "      <th>PC2</th>\n",
       "      <th>PC3</th>\n",
       "      <th>PC4</th>\n",
       "      <th>PC5</th>\n",
       "      <th>PC6</th>\n",
       "      <th>PC7</th>\n",
       "      <th>PC8</th>\n",
       "    </tr>\n",
       "  </thead>\n",
       "  <tbody>\n",
       "    <tr>\n",
       "      <th>Population</th>\n",
       "      <td>0.005608</td>\n",
       "      <td>0.047810</td>\n",
       "      <td>0.467225</td>\n",
       "      <td>0.230919</td>\n",
       "      <td>0.730639</td>\n",
       "      <td>0.438229</td>\n",
       "      <td>0.003395</td>\n",
       "      <td>0.013046</td>\n",
       "    </tr>\n",
       "    <tr>\n",
       "      <th>Children</th>\n",
       "      <td>0.015521</td>\n",
       "      <td>0.001633</td>\n",
       "      <td>0.222579</td>\n",
       "      <td>0.877860</td>\n",
       "      <td>-0.194569</td>\n",
       "      <td>-0.376248</td>\n",
       "      <td>0.004023</td>\n",
       "      <td>0.011845</td>\n",
       "    </tr>\n",
       "    <tr>\n",
       "      <th>Age</th>\n",
       "      <td>0.576641</td>\n",
       "      <td>-0.408345</td>\n",
       "      <td>-0.007545</td>\n",
       "      <td>-0.005245</td>\n",
       "      <td>0.008606</td>\n",
       "      <td>0.017317</td>\n",
       "      <td>-0.319423</td>\n",
       "      <td>0.631071</td>\n",
       "    </tr>\n",
       "    <tr>\n",
       "      <th>Income</th>\n",
       "      <td>-0.012265</td>\n",
       "      <td>-0.006172</td>\n",
       "      <td>0.570015</td>\n",
       "      <td>-0.070915</td>\n",
       "      <td>-0.644352</td>\n",
       "      <td>0.504598</td>\n",
       "      <td>-0.003589</td>\n",
       "      <td>0.006563</td>\n",
       "    </tr>\n",
       "    <tr>\n",
       "      <th>Doc_visits</th>\n",
       "      <td>0.001001</td>\n",
       "      <td>-0.019686</td>\n",
       "      <td>0.637943</td>\n",
       "      <td>-0.412477</td>\n",
       "      <td>0.108081</td>\n",
       "      <td>-0.640908</td>\n",
       "      <td>-0.006938</td>\n",
       "      <td>0.003148</td>\n",
       "    </tr>\n",
       "    <tr>\n",
       "      <th>Initial_days</th>\n",
       "      <td>0.398724</td>\n",
       "      <td>0.583725</td>\n",
       "      <td>-0.001845</td>\n",
       "      <td>-0.010128</td>\n",
       "      <td>-0.021859</td>\n",
       "      <td>-0.010938</td>\n",
       "      <td>-0.636120</td>\n",
       "      <td>-0.308111</td>\n",
       "    </tr>\n",
       "    <tr>\n",
       "      <th>TotalCharge</th>\n",
       "      <td>0.419771</td>\n",
       "      <td>0.567584</td>\n",
       "      <td>-0.005562</td>\n",
       "      <td>-0.026758</td>\n",
       "      <td>-0.027695</td>\n",
       "      <td>-0.015155</td>\n",
       "      <td>0.637068</td>\n",
       "      <td>0.306662</td>\n",
       "    </tr>\n",
       "    <tr>\n",
       "      <th>Additional_charges</th>\n",
       "      <td>0.576085</td>\n",
       "      <td>-0.409456</td>\n",
       "      <td>0.013364</td>\n",
       "      <td>0.005065</td>\n",
       "      <td>0.010918</td>\n",
       "      <td>0.019006</td>\n",
       "      <td>0.295594</td>\n",
       "      <td>-0.642193</td>\n",
       "    </tr>\n",
       "  </tbody>\n",
       "</table>\n",
       "</div>"
      ],
      "text/plain": [
       "                         PC1       PC2       PC3       PC4       PC5  \\\n",
       "Population          0.005608  0.047810  0.467225  0.230919  0.730639   \n",
       "Children            0.015521  0.001633  0.222579  0.877860 -0.194569   \n",
       "Age                 0.576641 -0.408345 -0.007545 -0.005245  0.008606   \n",
       "Income             -0.012265 -0.006172  0.570015 -0.070915 -0.644352   \n",
       "Doc_visits          0.001001 -0.019686  0.637943 -0.412477  0.108081   \n",
       "Initial_days        0.398724  0.583725 -0.001845 -0.010128 -0.021859   \n",
       "TotalCharge         0.419771  0.567584 -0.005562 -0.026758 -0.027695   \n",
       "Additional_charges  0.576085 -0.409456  0.013364  0.005065  0.010918   \n",
       "\n",
       "                         PC6       PC7       PC8  \n",
       "Population          0.438229  0.003395  0.013046  \n",
       "Children           -0.376248  0.004023  0.011845  \n",
       "Age                 0.017317 -0.319423  0.631071  \n",
       "Income              0.504598 -0.003589  0.006563  \n",
       "Doc_visits         -0.640908 -0.006938  0.003148  \n",
       "Initial_days       -0.010938 -0.636120 -0.308111  \n",
       "TotalCharge        -0.015155  0.637068  0.306662  \n",
       "Additional_charges  0.019006  0.295594 -0.642193  "
      ]
     },
     "execution_count": 27,
     "metadata": {},
     "output_type": "execute_result"
    }
   ],
   "source": [
    "#generate loading values\n",
    "loadings = pd.DataFrame(pca.components_.T,\n",
    "                        columns = ['PC1', 'PC2', 'PC3', 'PC4', 'PC5', 'PC6', 'PC7', 'PC8'],\n",
    "                        index = df.columns)\n",
    "loadings"
   ]
  },
  {
   "cell_type": "code",
   "execution_count": null,
   "id": "aea0ef6e-29ce-4261-8b3d-a345bed379d6",
   "metadata": {},
   "outputs": [],
   "source": []
  }
 ],
 "metadata": {
  "kernelspec": {
   "display_name": "Python 3",
   "language": "python",
   "name": "python3"
  },
  "language_info": {
   "codemirror_mode": {
    "name": "ipython",
    "version": 3
   },
   "file_extension": ".py",
   "mimetype": "text/x-python",
   "name": "python",
   "nbconvert_exporter": "python",
   "pygments_lexer": "ipython3",
   "version": "3.8.8"
  }
 },
 "nbformat": 4,
 "nbformat_minor": 5
}
